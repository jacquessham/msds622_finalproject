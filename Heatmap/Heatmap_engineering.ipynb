{
 "cells": [
  {
   "cell_type": "code",
   "execution_count": 1,
   "metadata": {},
   "outputs": [],
   "source": [
    "import pandas as pd"
   ]
  },
  {
   "cell_type": "code",
   "execution_count": 2,
   "metadata": {},
   "outputs": [],
   "source": [
    "whisky = pd.read_csv('../Data/whisky.csv')"
   ]
  },
  {
   "cell_type": "code",
   "execution_count": 6,
   "metadata": {},
   "outputs": [
    {
     "data": {
      "text/plain": [
       "Region           Body\n",
       "Highland         1       1.200000\n",
       "                 2       1.700000\n",
       "                 3       2.000000\n",
       "                 4       2.000000\n",
       "Islay & Islands  1       1.500000\n",
       "                 2       1.750000\n",
       "                 3       4.000000\n",
       "                 4       3.750000\n",
       "Lowland          0       0.000000\n",
       "                 1       1.000000\n",
       "Speyside         0       1.000000\n",
       "                 1       1.000000\n",
       "                 2       1.190476\n",
       "                 3       1.333333\n",
       "                 4       1.666667\n",
       "Name: Smoky, dtype: float64"
      ]
     },
     "execution_count": 6,
     "metadata": {},
     "output_type": "execute_result"
    }
   ],
   "source": [
    "whisky.groupby(['Region','Body'])['Smoky'].mean()"
   ]
  },
  {
   "cell_type": "code",
   "execution_count": 5,
   "metadata": {},
   "outputs": [
    {
     "data": {
      "text/plain": [
       "Region           Body\n",
       "Highland         1       0.400000\n",
       "                 2       1.050000\n",
       "                 3       1.250000\n",
       "                 4       2.000000\n",
       "Islay & Islands  1       1.000000\n",
       "                 2       0.750000\n",
       "                 3       0.000000\n",
       "                 4       0.750000\n",
       "Lowland          0       0.000000\n",
       "                 1       0.500000\n",
       "Speyside         0       1.000000\n",
       "                 1       0.400000\n",
       "                 2       0.904762\n",
       "                 3       1.666667\n",
       "                 4       3.000000\n",
       "Name: Winey, dtype: float64"
      ]
     },
     "execution_count": 5,
     "metadata": {},
     "output_type": "execute_result"
    }
   ],
   "source": [
    "whisky.groupby(['Region','Body'])['Winey'].mean()"
   ]
  },
  {
   "cell_type": "code",
   "execution_count": 7,
   "metadata": {},
   "outputs": [
    {
     "data": {
      "text/plain": [
       "Region           Body\n",
       "Highland         1       2.000000\n",
       "                 2       1.500000\n",
       "                 3       2.500000\n",
       "                 4       2.000000\n",
       "Islay & Islands  1       2.000000\n",
       "                 2       1.250000\n",
       "                 3       1.000000\n",
       "                 4       1.000000\n",
       "Lowland          0       3.000000\n",
       "                 1       2.000000\n",
       "Speyside         0       1.000000\n",
       "                 1       1.700000\n",
       "                 2       2.000000\n",
       "                 3       2.333333\n",
       "                 4       2.000000\n",
       "Name: Fruity, dtype: float64"
      ]
     },
     "execution_count": 7,
     "metadata": {},
     "output_type": "execute_result"
    }
   ],
   "source": [
    "whisky.groupby(['Region','Body'])['Fruity'].mean()"
   ]
  },
  {
   "cell_type": "code",
   "execution_count": 8,
   "metadata": {},
   "outputs": [
    {
     "data": {
      "text/html": [
       "<div>\n",
       "<style scoped>\n",
       "    .dataframe tbody tr th:only-of-type {\n",
       "        vertical-align: middle;\n",
       "    }\n",
       "\n",
       "    .dataframe tbody tr th {\n",
       "        vertical-align: top;\n",
       "    }\n",
       "\n",
       "    .dataframe thead th {\n",
       "        text-align: right;\n",
       "    }\n",
       "</style>\n",
       "<table border=\"1\" class=\"dataframe\">\n",
       "  <thead>\n",
       "    <tr style=\"text-align: right;\">\n",
       "      <th></th>\n",
       "      <th>Region</th>\n",
       "      <th>Body</th>\n",
       "      <th>Smoky</th>\n",
       "    </tr>\n",
       "  </thead>\n",
       "  <tbody>\n",
       "    <tr>\n",
       "      <th>0</th>\n",
       "      <td>Highland</td>\n",
       "      <td>1</td>\n",
       "      <td>1.200000</td>\n",
       "    </tr>\n",
       "    <tr>\n",
       "      <th>1</th>\n",
       "      <td>Highland</td>\n",
       "      <td>2</td>\n",
       "      <td>1.700000</td>\n",
       "    </tr>\n",
       "    <tr>\n",
       "      <th>2</th>\n",
       "      <td>Highland</td>\n",
       "      <td>3</td>\n",
       "      <td>2.000000</td>\n",
       "    </tr>\n",
       "    <tr>\n",
       "      <th>3</th>\n",
       "      <td>Highland</td>\n",
       "      <td>4</td>\n",
       "      <td>2.000000</td>\n",
       "    </tr>\n",
       "    <tr>\n",
       "      <th>4</th>\n",
       "      <td>Islay &amp; Islands</td>\n",
       "      <td>1</td>\n",
       "      <td>1.500000</td>\n",
       "    </tr>\n",
       "    <tr>\n",
       "      <th>5</th>\n",
       "      <td>Islay &amp; Islands</td>\n",
       "      <td>2</td>\n",
       "      <td>1.750000</td>\n",
       "    </tr>\n",
       "    <tr>\n",
       "      <th>6</th>\n",
       "      <td>Islay &amp; Islands</td>\n",
       "      <td>3</td>\n",
       "      <td>4.000000</td>\n",
       "    </tr>\n",
       "    <tr>\n",
       "      <th>7</th>\n",
       "      <td>Islay &amp; Islands</td>\n",
       "      <td>4</td>\n",
       "      <td>3.750000</td>\n",
       "    </tr>\n",
       "    <tr>\n",
       "      <th>8</th>\n",
       "      <td>Lowland</td>\n",
       "      <td>0</td>\n",
       "      <td>0.000000</td>\n",
       "    </tr>\n",
       "    <tr>\n",
       "      <th>9</th>\n",
       "      <td>Lowland</td>\n",
       "      <td>1</td>\n",
       "      <td>1.000000</td>\n",
       "    </tr>\n",
       "    <tr>\n",
       "      <th>10</th>\n",
       "      <td>Speyside</td>\n",
       "      <td>0</td>\n",
       "      <td>1.000000</td>\n",
       "    </tr>\n",
       "    <tr>\n",
       "      <th>11</th>\n",
       "      <td>Speyside</td>\n",
       "      <td>1</td>\n",
       "      <td>1.000000</td>\n",
       "    </tr>\n",
       "    <tr>\n",
       "      <th>12</th>\n",
       "      <td>Speyside</td>\n",
       "      <td>2</td>\n",
       "      <td>1.190476</td>\n",
       "    </tr>\n",
       "    <tr>\n",
       "      <th>13</th>\n",
       "      <td>Speyside</td>\n",
       "      <td>3</td>\n",
       "      <td>1.333333</td>\n",
       "    </tr>\n",
       "    <tr>\n",
       "      <th>14</th>\n",
       "      <td>Speyside</td>\n",
       "      <td>4</td>\n",
       "      <td>1.666667</td>\n",
       "    </tr>\n",
       "  </tbody>\n",
       "</table>\n",
       "</div>"
      ],
      "text/plain": [
       "             Region  Body     Smoky\n",
       "0          Highland     1  1.200000\n",
       "1          Highland     2  1.700000\n",
       "2          Highland     3  2.000000\n",
       "3          Highland     4  2.000000\n",
       "4   Islay & Islands     1  1.500000\n",
       "5   Islay & Islands     2  1.750000\n",
       "6   Islay & Islands     3  4.000000\n",
       "7   Islay & Islands     4  3.750000\n",
       "8           Lowland     0  0.000000\n",
       "9           Lowland     1  1.000000\n",
       "10         Speyside     0  1.000000\n",
       "11         Speyside     1  1.000000\n",
       "12         Speyside     2  1.190476\n",
       "13         Speyside     3  1.333333\n",
       "14         Speyside     4  1.666667"
      ]
     },
     "execution_count": 8,
     "metadata": {},
     "output_type": "execute_result"
    }
   ],
   "source": [
    "whisky.groupby(['Region','Body'])['Smoky'].mean().reset_index()"
   ]
  },
  {
   "cell_type": "code",
   "execution_count": null,
   "metadata": {},
   "outputs": [],
   "source": []
  }
 ],
 "metadata": {
  "kernelspec": {
   "display_name": "Python 3",
   "language": "python",
   "name": "python3"
  },
  "language_info": {
   "codemirror_mode": {
    "name": "ipython",
    "version": 3
   },
   "file_extension": ".py",
   "mimetype": "text/x-python",
   "name": "python",
   "nbconvert_exporter": "python",
   "pygments_lexer": "ipython3",
   "version": "3.7.1"
  }
 },
 "nbformat": 4,
 "nbformat_minor": 2
}
